{
 "cells": [
  {
   "cell_type": "markdown",
   "metadata": {},
   "source": [
    "### numpy 명령어"
   ]
  },
  {
   "cell_type": "code",
   "execution_count": 1,
   "metadata": {},
   "outputs": [],
   "source": [
    "import numpy as np"
   ]
  },
  {
   "cell_type": "markdown",
   "metadata": {},
   "source": [
    "### 넘파이 배열"
   ]
  },
  {
   "cell_type": "code",
   "execution_count": 2,
   "metadata": {},
   "outputs": [
    {
     "name": "stdout",
     "output_type": "stream",
     "text": [
      "[[0 1 2]\n",
      " [3 4 5]]\n",
      "2\n",
      "3\n"
     ]
    }
   ],
   "source": [
    "# 1차원 배열 만들기 numpy.array([]): - 배열 정의 행렬형태의 데이터를 가져옴\n",
    "a=np.array([1,2,3,4,5])\n",
    "a\n",
    "# 자료형은 리스트가 아닌 ndarray로 나타남 - type으로 확인가능\n",
    "# 2차원 배열 만들기\n",
    "c=np.array([[0,1,2],[3,4,5]]) # - 2x3 array\n",
    "print(c)\n",
    "print(len(c)) # row 개수\n",
    "print(len(c[0])) # col 개수"
   ]
  },
  {
   "cell_type": "code",
   "execution_count": 3,
   "metadata": {},
   "outputs": [
    {
     "data": {
      "text/plain": [
       "array([ 0,  2,  4,  6,  8, 10, 12, 14, 16, 18])"
      ]
     },
     "execution_count": 3,
     "metadata": {},
     "output_type": "execute_result"
    }
   ],
   "source": [
    "# 벡터화 연산 - 빠르게 계산가능\n",
    "data=[0,1,2,3,4,5,6,7,8,9]\n",
    "x=np.array(data)\n",
    "2*x"
   ]
  },
  {
   "cell_type": "code",
   "execution_count": 4,
   "metadata": {},
   "outputs": [
    {
     "name": "stdout",
     "output_type": "stream",
     "text": [
      "1\n",
      "(3,)\n"
     ]
    },
    {
     "data": {
      "text/plain": [
       "array([0, 1, 2])"
      ]
     },
     "execution_count": 4,
     "metadata": {},
     "output_type": "execute_result"
    }
   ],
   "source": [
    "# 배열의 차원과 크기 알아내기\n",
    "a=np.array([1,2,3])\n",
    "print(a.ndim) # 배열의 차원 반환\n",
    "print(a.shape) # 배열의 크기 반환\n",
    "\n",
    "# 배열의 인덱싱 - 리스트와 동일\n",
    "b = np.array([[0, 1, 2], [3, 4, 5]])\n",
    "b[-1,-1]\n",
    "# 배열 슬라이싱\n",
    "b[0,:]"
   ]
  },
  {
   "cell_type": "code",
   "execution_count": 5,
   "metadata": {},
   "outputs": [
    {
     "name": "stderr",
     "output_type": "stream",
     "text": [
      "C:\\Users\\user\\AppData\\Local\\Temp\\ipykernel_19404\\1071862671.py:5: FutureWarning: Using a non-tuple sequence for multidimensional indexing is deprecated; use `arr[tuple(seq)]` instead of `arr[seq]`. In the future this will be interpreted as an array index, `arr[np.array(seq)]`, which will result either in an error or a different result.\n",
      "  z=x[idx]\n",
      "C:\\Users\\user\\AppData\\Local\\Temp\\ipykernel_19404\\1071862671.py:7: FutureWarning: Using a non-tuple sequence for multidimensional indexing is deprecated; use `arr[tuple(seq)]` instead of `arr[seq]`. In the future this will be interpreted as an array index, `arr[np.array(seq)]`, which will result either in an error or a different result.\n",
      "  z[edx]\n"
     ]
    },
    {
     "data": {
      "text/plain": [
       "array([9])"
      ]
     },
     "execution_count": 5,
     "metadata": {},
     "output_type": "execute_result"
    }
   ],
   "source": [
    "x = np.array([1, 2, 3, 4, 5, 6, 7, 8, 9, 10,\n",
    "             11, 12, 13, 14, 15, 16, 17, 18, 19, 20])\n",
    "idx=[x%3==0]\n",
    "adx=[x%4==1]\n",
    "z=x[idx]\n",
    "edx=[z%4==1]\n",
    "z[edx]"
   ]
  },
  {
   "cell_type": "markdown",
   "metadata": {},
   "source": [
    "### 배열의 생성과 변형"
   ]
  },
  {
   "cell_type": "code",
   "execution_count": 6,
   "metadata": {},
   "outputs": [
    {
     "data": {
      "text/plain": [
       "dtype('int32')"
      ]
     },
     "execution_count": 6,
     "metadata": {},
     "output_type": "execute_result"
    }
   ],
   "source": [
    "# np의 자료형 - 모두 같은 자료형인 원소로 구성되어야 함 dtype으로 자료형 확인\n",
    "x = np.array([1, 2, 3])\n",
    "y = np.array([1.0, 2.0, 3.0])\n",
    "z = np.array([1, 2, 3.0])\n",
    "x.dtype\n",
    "y.dtype\n",
    "z.dtype\n",
    "# dtype 지정\n",
    "# b - t or f, i 정수, u 부호없는 정수, f 부동소수점, c 복소 부동소수점, o 객체\n",
    "# i8, u8, f8 = 64bit\n",
    "q = np.array([1,2,3,4],dtype='i')\n",
    "q.dtype"
   ]
  },
  {
   "cell_type": "code",
   "execution_count": 7,
   "metadata": {},
   "outputs": [
    {
     "data": {
      "text/plain": [
       "array([ 1.25892541,  1.58489319,  1.99526231,  2.51188643,  3.16227766,\n",
       "        3.98107171,  5.01187234,  6.30957344,  7.94328235, 10.        ])"
      ]
     },
     "execution_count": 7,
     "metadata": {},
     "output_type": "execute_result"
    }
   ],
   "source": [
    "# Inf(무한) 와 NaN(정의 불가 수)\n",
    "# 배열 생성\n",
    "# np.zeros(m, n) m x n 크기의 성분이 전부 0인 행렬생성\n",
    "a = np.zeros(5)\n",
    "a\n",
    "b= np.zeros((2,3)) # 다차원 배열 형성시\n",
    "b\n",
    "# np.ones(m, n) 0 대신 1 들어감\n",
    "e=np.ones((2,3,4)) # 3x4 배열 2개 형성\n",
    "e\n",
    "# 크기를 명시하지 않고 다른 배열과 같은 크기로 만들시\n",
    "f=np.ones_like(b) # zeros 도 된다\n",
    "f\n",
    "# numpy.empty((m, n)) 빈 m,n 크기의 행렬 생성\n",
    "# np.arange() 리스트랑 같은 방법\n",
    "c=np.arange(1,10,2)\n",
    "c\n",
    "# np.linspace(시작, 끝(포함), 갯수) - 구간 분할\n",
    "d=np.linspace(0,100,5)\n",
    "d\n",
    "# np.logspace 로그 구간 분할\n",
    "g=np.logspace(0.1,1,10)\n",
    "g"
   ]
  },
  {
   "cell_type": "code",
   "execution_count": 8,
   "metadata": {},
   "outputs": [
    {
     "data": {
      "text/plain": [
       "array([[1, 4],\n",
       "       [2, 5],\n",
       "       [3, 6]])"
      ]
     },
     "execution_count": 8,
     "metadata": {},
     "output_type": "execute_result"
    }
   ],
   "source": [
    "# 전치 연산\n",
    "A=np.array([[1,2,3,],[4,5,6]])\n",
    "A.T"
   ]
  },
  {
   "cell_type": "code",
   "execution_count": 45,
   "metadata": {},
   "outputs": [
    {
     "data": {
      "text/plain": [
       "array([[0],\n",
       "       [1],\n",
       "       [2],\n",
       "       [3],\n",
       "       [4],\n",
       "       [5]])"
      ]
     },
     "execution_count": 45,
     "metadata": {},
     "output_type": "execute_result"
    }
   ],
   "source": [
    "# 배열 크기 변형\n",
    "a=np.arange(12)\n",
    "a\n",
    "a.reshape(3,4) # 값 중 하나는 -1로 작성 가능 - 자동으로 계산되어 적용됨\n",
    "a.reshape(2,2,-1)\n",
    "\n",
    "# 다차원 배열 1차원으로 만들기\n",
    "a.flatten() # or a.ravel()\n",
    "#   여기서 정렬방식에 따라 A.flatten(order='?') 로 표현가능\n",
    "#   ? = C or F or A(A는 몰라도됨)\n",
    "#   C인 경우는 기본설정으로 row기준으로 배열(행벡터화)\n",
    "#   F인 경우는 column을 기준으로 배열(열벡터화) \n",
    "\n",
    "# 차원만 증가시키기\n",
    "x= np.arange(6)\n",
    "x.reshape(1,-1)\n",
    "x[:,np.newaxis]\n",
    "\n"
   ]
  },
  {
   "cell_type": "code",
   "execution_count": 10,
   "metadata": {},
   "outputs": [
    {
     "data": {
      "text/plain": [
       "array([[0, 1, 2, 0, 1, 2],\n",
       "       [3, 4, 5, 3, 4, 5],\n",
       "       [0, 1, 2, 0, 1, 2],\n",
       "       [3, 4, 5, 3, 4, 5],\n",
       "       [0, 1, 2, 0, 1, 2],\n",
       "       [3, 4, 5, 3, 4, 5]])"
      ]
     },
     "execution_count": 10,
     "metadata": {},
     "output_type": "execute_result"
    }
   ],
   "source": [
    "# 배열 연결\n",
    "# 열 연결 - row 수 같아야함\n",
    "a1=np.ones((2,3))\n",
    "a2=np.zeros((2,2))\n",
    "np.hstack([a1,a2])\n",
    "np.r_[np.array([1,2,3]),np.array([4,5,6])]\n",
    "# 행 연결 - col 수 같아야함\n",
    "b1=np.ones((2,3))\n",
    "b2=np.zeros((3,3))\n",
    "np.vstack([b1,b2])\n",
    "# 1차원 행을 열로 변환 후 열 연결\n",
    "np.c_[np.array([1,2,3]),np.array([4,5,6])]\n",
    "# 깊이 배열 합 - 행열 다 같아야함?\n",
    "c1=np.ones((3,4))\n",
    "c2=np.zeros((3,4))\n",
    "c=np.dstack([c1,c2])\n",
    "c.shape\n",
    "c3=np.stack([c1,c2],axis=1)\n",
    "c3\n",
    "# 동일한 배열 반복 연결\n",
    "a = np.array([[0, 1, 2], [3, 4, 5]])\n",
    "np.tile(a,(3,2))"
   ]
  },
  {
   "cell_type": "code",
   "execution_count": 11,
   "metadata": {},
   "outputs": [
    {
     "data": {
      "text/plain": [
       "array([[  0.,   0.,   0.,   1.,   1.],\n",
       "       [  0.,   0.,   0.,   1.,   1.],\n",
       "       [  0.,   0.,   0.,   1.,   1.],\n",
       "       [ 10.,  20.,  30.,  40.,  50.],\n",
       "       [ 60.,  70.,  80.,  90., 100.],\n",
       "       [110., 120., 130., 140., 150.],\n",
       "       [  0.,   0.,   0.,   1.,   1.],\n",
       "       [  0.,   0.,   0.,   1.,   1.],\n",
       "       [  0.,   0.,   0.,   1.,   1.],\n",
       "       [ 10.,  20.,  30.,  40.,  50.],\n",
       "       [ 60.,  70.,  80.,  90., 100.],\n",
       "       [110., 120., 130., 140., 150.]])"
      ]
     },
     "execution_count": 11,
     "metadata": {},
     "output_type": "execute_result"
    }
   ],
   "source": [
    "# 연습문제\n",
    "a1=np.zeros((3,3))\n",
    "a2=np.ones((3,2))\n",
    "a=np.hstack([a1,a2])\n",
    "b1=np.arange(10,160,10)\n",
    "b=b1.reshape(3,-1)\n",
    "c1=np.vstack([a,b])\n",
    "d=np.tile(c1,(2,1))\n",
    "d"
   ]
  },
  {
   "cell_type": "code",
   "execution_count": 54,
   "metadata": {},
   "outputs": [
    {
     "data": {
      "text/plain": [
       "[[(0, 0), (1, 0), (2, 0)],\n",
       " [(0, 1), (1, 1), (2, 1)],\n",
       " [(0, 2), (1, 2), (2, 2)],\n",
       " [(0, 3), (1, 3), (2, 3)],\n",
       " [(0, 4), (1, 4), (2, 4)]]"
      ]
     },
     "execution_count": 54,
     "metadata": {},
     "output_type": "execute_result"
    }
   ],
   "source": [
    "# 2차원 그리드 포인트 생성 - 변수가 2개인 2차원 함수의 그래프\n",
    "x=np.arange(3)\n",
    "y=np.arange(5)\n",
    "X,Y=np.meshgrid(x,y)\n",
    "z=[list(zip(x,y)) for x,y in zip(X,Y)]; z"
   ]
  },
  {
   "cell_type": "code",
   "execution_count": 13,
   "metadata": {},
   "outputs": [],
   "source": [
    "# numpy.full((m, n), k) m x n 크기의 성분이 전부 k인 행렬생성\n",
    "# numpy.eye(n)  n차 단위행렬(I) 생성"
   ]
  },
  {
   "cell_type": "markdown",
   "metadata": {},
   "source": [
    "### 배열의 연산"
   ]
  },
  {
   "cell_type": "code",
   "execution_count": 14,
   "metadata": {},
   "outputs": [
    {
     "data": {
      "text/plain": [
       "array([0.        , 0.69314718, 1.09861229, 1.38629436, 1.60943791])"
      ]
     },
     "execution_count": 14,
     "metadata": {},
     "output_type": "execute_result"
    }
   ],
   "source": [
    "# 벡터화 연산 - 덧셈\n",
    "x=np.arange(1,10001)\n",
    "y=np.arange(10001,20001)\n",
    "z=x+y\n",
    "z[:10]\n",
    "#   그냥 A, B로 행렬 지정 후 A+B 해도 됨\n",
    "# - 곱셈은 스칼라곱 * 으로 가능 A로 행렬 지정 후 A*c 하면 됨 (c= 스케일값)\n",
    "\n",
    "# 벡터화 연산 - 비교(논리) 연산\n",
    "a=np.array([1,2,3,4])\n",
    "b=np.array([4,2,3,1])\n",
    "a==b\n",
    "np.all(a==b)\n",
    "# 벡터화 연산 - 지수 함수, 로그 함수 연산\n",
    "c=np.arange(5)\n",
    "np.exp(c)\n",
    "10**c\n",
    "np.log(c+1)"
   ]
  },
  {
   "cell_type": "code",
   "execution_count": 15,
   "metadata": {},
   "outputs": [
    {
     "data": {
      "text/plain": [
       "array([[   0,  100,  200,  300],\n",
       "       [ 400,  500,  600,  700],\n",
       "       [ 800,  900, 1000, 1100]])"
      ]
     },
     "execution_count": 15,
     "metadata": {},
     "output_type": "execute_result"
    }
   ],
   "source": [
    "# 스칼라와 벡터/행렬의 곱셈\n",
    "x=np.arange(10)\n",
    "100*x\n",
    "x=np.arange(12).reshape(3,4)\n",
    "x\n",
    "100*x\n"
   ]
  },
  {
   "cell_type": "code",
   "execution_count": 16,
   "metadata": {},
   "outputs": [
    {
     "data": {
      "text/plain": [
       "array([[0, 1, 2],\n",
       "       [1, 2, 3],\n",
       "       [2, 3, 4],\n",
       "       [3, 4, 5],\n",
       "       [4, 5, 6]])"
      ]
     },
     "execution_count": 16,
     "metadata": {},
     "output_type": "execute_result"
    }
   ],
   "source": [
    "# 브로드 캐스팅 - 크기가 다른 배열의 사칙 연산\n",
    "x=np.arange(5)\n",
    "y=np.ones_like(x)\n",
    "x+y\n",
    "x+1\n",
    "# 더 차원이 높은 경우의 적용\n",
    "x=np.vstack([range(7)[i:i+3]for i in range(5)])\n",
    "x"
   ]
  },
  {
   "cell_type": "code",
   "execution_count": 48,
   "metadata": {},
   "outputs": [
    {
     "data": {
      "text/plain": [
       "array([2, 5])"
      ]
     },
     "execution_count": 48,
     "metadata": {},
     "output_type": "execute_result"
    }
   ],
   "source": [
    "# 차원 축소 연산\n",
    "x=np.array([1,2,3,4])\n",
    "np.sum(x)\n",
    "x.sum()\n",
    "y=np.array([1,3,2])\n",
    "y.min()\n",
    "y.max()\n",
    "y.argmin() # 최소값의 위치\n",
    "y.argmax()\n",
    "y.mean()\n",
    "np.all([True,True,False])\n",
    "np.any([True,True,False])\n",
    "\n",
    "# 연산의 대상이 2차원 이상인 경우 - axis 인수 활용 0은 열 연산, 1은 행 연산\n",
    "x=np.array([[1,1],[2,3]])\n",
    "x.sum()\n",
    "x.sum(axis=0)\n",
    "x.sum(axis=1)"
   ]
  },
  {
   "cell_type": "code",
   "execution_count": 18,
   "metadata": {},
   "outputs": [
    {
     "name": "stdout",
     "output_type": "stream",
     "text": [
      "[[685 560 630 193 836 764]\n",
      " [708 360  10 724 278 755]\n",
      " [805 600  71 473 601 397]\n",
      " [315 706 487 552  88 175]\n",
      " [601 850 678 538 846  73]]\n"
     ]
    }
   ],
   "source": [
    "# 연습문제\n",
    "np.random.seed(0)\n",
    "a=np.random.randint(1,1000,size=(5,6))\n",
    "print(a)\n",
    "a.max()\n",
    "a.sum(axis=1)\n",
    "for i in range(5):\n",
    "    b1=a[i].max()\n",
    "for j in range(6):\n",
    "    b2=a[:,j].mean()\n",
    "    b3=a[:,j].min()"
   ]
  },
  {
   "cell_type": "code",
   "execution_count": 19,
   "metadata": {},
   "outputs": [
    {
     "data": {
      "text/plain": [
       "array([12, 25, 38, 42])"
      ]
     },
     "execution_count": 19,
     "metadata": {},
     "output_type": "execute_result"
    }
   ],
   "source": [
    "# 정렬\n",
    "a=np.array([[4, 3, 5, 7],\n",
    "            [1,12,11, 9],\n",
    "            [2,15, 1,14]])\n",
    "np.sort(a) #axis=1과 동일(행 연산)\n",
    "np.sort(a,axis=0)\n",
    "b=np.array([42,38,12,25])\n",
    "j=np.argsort(b)\n",
    "b[j]"
   ]
  },
  {
   "cell_type": "code",
   "execution_count": 20,
   "metadata": {},
   "outputs": [
    {
     "name": "stdout",
     "output_type": "stream",
     "text": [
      "[[  1   2   3   4]\n",
      " [ 46  99 100  71]\n",
      " [ 81  59  90 100]]\n"
     ]
    },
    {
     "data": {
      "text/plain": [
       "array([[  1,   4,   2,   3],\n",
       "       [ 46,  71,  99, 100],\n",
       "       [ 81, 100,  59,  90]])"
      ]
     },
     "execution_count": 20,
     "metadata": {},
     "output_type": "execute_result"
    }
   ],
   "source": [
    "# 연습문제\n",
    "a=np.array([[ 1, 2, 3, 4],\n",
    "            [46,99,100,71],\n",
    "            [81,59,90,100]])\n",
    "print(a)\n",
    "b=a[1]\n",
    "j=np.argsort(b)\n",
    "a[:,j]\n"
   ]
  },
  {
   "cell_type": "code",
   "execution_count": 21,
   "metadata": {},
   "outputs": [],
   "source": [
    "# 행렬 곱연산 |\n",
    "# @ - 지정해놓은 변수로 실행 c = a @ b 처럼   _____\\ 이 둘은 (m, n) (n, k) shape여야 계산 가능\n",
    "# numpy.dot() 두 벡터의 내적 계산 |          ㅡㅡㅡ/\n",
    "# * - 스칼라곱 같은 shape 여야만 계산 가능(m, n)이 같아야 함 /예외로 (1, n) or (m, 1) 꼴일때는\n",
    "#  shape가 달라도 가능\n",
    "# ex) \n",
    "# [0, 1, 2] * [[-1 0 1] 이면 [[0 0 2]\n",
    "#              [ 2 3 4]]      [0 3 8]] 이됨\n",
    "#\n",
    "# numpy.linalg.det(X) 행렬식 연산 X는 변수로 지정한 행렬 |\n",
    "# numpy.linalg.inv(X) 역행렬 연산 |\n",
    "# numpy.eye(n) n차원 단위행렬 == I |\n",
    "# numpy.dot() 두 벡터의 내적 계산 |\n",
    "# numpy.tril() 하삼각행렬 반환 |\n",
    "# numpy.triu() 상삼각행렬 반환 |\n",
    "#\n",
    "# numpy.where(condition, x, y) - if 같은 느낌 (조건문, True값, False값) 으로 구성 |\n",
    "#\n",
    "# 행렬값 수정 |\n",
    "# X =([]) 상태의 (예비)행렬존재시\n",
    "# X = numpy.append(X, np.array[1, 2, 3], axis=0 or 1) 으로 1, 2, 3을 추가가능 \n",
    "# axis=0이면 행 추가 axis =1 이면 열 추가 기존행렬과 모양 맞아야 함"
   ]
  },
  {
   "cell_type": "markdown",
   "metadata": {},
   "source": [
    "### 기술 통계"
   ]
  },
  {
   "cell_type": "code",
   "execution_count": 22,
   "metadata": {},
   "outputs": [
    {
     "data": {
      "text/plain": [
       "5.0"
      ]
     },
     "execution_count": 22,
     "metadata": {},
     "output_type": "execute_result"
    }
   ],
   "source": [
    "# 간단한 통계량 계산\n",
    "x = np.array([18,   5,  10,  23,  19,  -8,  10,   0,   0,   5,   2,  15,   8,\n",
    "              2,   5,   4,  15,  -1,   4,  -7, -24,   7,   9,  -6,  23, -13])\n",
    "len(x) # 데이터 개수\n",
    "np.mean(x) # sample average\n",
    "np.var(x)  # sample variance\n",
    "np.std(x)  # sample standard variance\n",
    "np.max(x)\n",
    "np.min(x)\n",
    "np.median(x)\n",
    "np.percentile(x,0) # == min\n",
    "np.percentile(x,25) # 1 quartile\n",
    "np.percentile(x,50) # == median\n"
   ]
  },
  {
   "cell_type": "markdown",
   "metadata": {},
   "source": [
    "### 난수 발생과 카운팅"
   ]
  },
  {
   "cell_type": "code",
   "execution_count": 23,
   "metadata": {},
   "outputs": [],
   "source": [
    "# 시드 설정하기\n",
    "np.random.seed(0) # 시드 고정\n",
    "\n",
    "# 데이터 순서 바꾸기\n",
    "x=np.arange(10)\n",
    "np.random.shuffle(x) # 자체 변환 함수이니 조심\n",
    "\n",
    "# 데이터 샘플링\n",
    "# np.random.choice(a, size=None, replace=True, p=None)\n",
    "# np.random.choice(a,(m,n),replace=False) 로도 사용함\n",
    "# a : 데이터 or 정수 | 정수일때는 arange()로 작용됨\n",
    "# size : 정수, 샘플 숫자\n",
    "# replace : 불리언 True면 한 번 선택한 데이터 다시 선택 가능\n",
    "# p : 각 데이터가 선택될 수 있는 확률"
   ]
  },
  {
   "cell_type": "code",
   "execution_count": 24,
   "metadata": {},
   "outputs": [
    {
     "data": {
      "text/plain": [
       "array([[5, 5, 9, 5, 4],\n",
       "       [8, 6, 6, 1, 2],\n",
       "       [6, 4, 1, 6, 1]])"
      ]
     },
     "execution_count": 24,
     "metadata": {},
     "output_type": "execute_result"
    }
   ],
   "source": [
    "# 난수 생성\n",
    "# rand : 0~1사이 균일분포 | randn : 표준 정규 분포 | randint : 균일 분포의 정수 난수\n",
    "np.random.rand(10)\n",
    "np.random.rand(3,5)\n",
    "np.random.randn(4,4)\n",
    "\n",
    "np.random.randint(10,size=10)\n",
    "np.random.randint(1,10,size=(3,5))"
   ]
  },
  {
   "cell_type": "code",
   "execution_count": 25,
   "metadata": {},
   "outputs": [
    {
     "name": "stdout",
     "output_type": "stream",
     "text": [
      "[0 0 0 0 0 1 1 1 1 0]\n",
      "[3 3 5 6 6 2 4 6 4 6 6 1 2 1 6 4 6 2 3 4 1 3 1 4 5 2 3 5 3 6 4 6 5 3 6 1 5\n",
      " 3 5 2 2 6 4 4 4 2 3 4 3 3 5 2 3 5 6 1 1 3 4 1 6 2 2 1 1 6 2 4 3 1 3 3 6 6\n",
      " 1 4 2 5 6 3 1 1 6 3 3 1 3 1 2 5 6 5 3 3 3 2 2 3 6 6]\n",
      "[10176.405234596767, 10217.126853695665, 10317.125755097051, 10548.321524496083, 10745.317545953518, 10640.305934454434, 10741.398248726973, 10725.140368205562, 10714.070001464253, 10758.061812386894, 10773.55810880915, 10930.235110142823, 11013.418322778272, 11026.818901338936, 11075.762896183403, 11112.719873528811, 11278.752695617832, 11255.613402413064, 11290.85109259871, 11194.416414485922, 10908.624103482038, 10979.924899129086, 11074.839344564745, 10992.645760883175, 11242.151846339399, 11078.649848799967, 11083.719274707797, 11062.972342243344, 11232.543282795474, 11397.589642604074, 11415.249914346789, 11458.418111041767, 11356.69190814807, 11131.7389559244, 11093.010283665468, 11110.354090886578, 11247.043741862606, 11382.275929398731, 11338.1893222928, 11303.913664106069, 11185.386142212461, 11026.551652650312, 10838.40888874727, 11049.841902583566, 10993.526142246941, 10945.36632937685, 10808.24328786195, 10892.276337059926, 10716.486123706052, 10693.68784109739, 10597.929442321929, 10638.933096055634, 10584.588879218467, 10459.623816353373, 10456.676061286083, 10501.465337454696, 10508.450620506703, 10540.235730521597, 10473.376686556843, 10435.385437845802, 10365.211598203317, 10327.943152201611, 10243.961866447818, 10067.122134957839, 10084.983841397869, 10044.46429890345, 9880.719607941131, 9926.44582500494, 9836.38334439328, 9841.49289265355, 9913.24628851126, 9926.032682124733, 10039.129966452854, 9915.164197488233, 9955.057031845856, 9886.883796732913, 9800.789094488036, 9744.057259670324, 9713.69940254588, 9719.155135058489, 9605.912414476867, 9692.445017820095, 9737.57909375961, 9587.986149735478, 9730.679563949734, 9915.162464556877, 10032.040374136364, 10013.990241964571, 9906.765178930926, 10011.227235443175, 9970.864275120768, 10092.752613926505, 10113.773292220512, 10212.5483502538, 10248.942440869294, 10321.358718179914, 10322.442462983992, 10506.78791718083, 10520.122301602456, 10562.412074276272, 10761.318210878959, 10616.281569593466, 10481.403304854775, 10583.009683460803, 10458.857919898626, 10662.138498206736, 10618.03786962326, 10538.67283468616, 10741.325403657613, 10900.352315054866, 11103.922821432738, 11204.52932101535, 11108.03303661328, 11320.203682624293, 11289.865155156298, 11380.461400170638, 11488.263044725485, 11470.455077485336, 11540.892775800989, 11647.323658937765, 11691.167158886337, 11562.634374713021, 11597.118564362287, 11750.941109422061, 11669.322849260056, 11651.861511655214, 11601.15802244556, 11815.694029838216, 11895.130321305449, 11943.598437735913, 11851.642753496584, 11915.55264119961, 11835.202178042178, 11838.969388968348, 11763.691766388116, 11843.265294210845, 11911.55247428461, 11886.740858710655, 11933.813150427843, 11803.369232356696, 11627.3505924841, 11678.440206064408, 11697.905070560846, 11772.190445216704, 12052.738786698917, 12166.574432159827, 12055.515236667865, 12190.177305475323, 12029.765858958079, 11974.238311757872, 11966.066899308531, 12171.086635595528, 12080.441880981236, 11980.604453636503, 11968.809246110472, 11889.398795626428, 12023.349033380455, 11893.50509880847, 11757.030856126727, 11705.556218371816, 11647.258749870292, 11871.996340840044, 11984.711544297445, 11995.20430803091, 11848.210813884054, 11948.252719362496, 11828.74446191854, 11646.017436359141, 11784.375593125631, 11821.725300929518, 11930.586701486258, 11968.612780462237, 12071.163518585336, 11992.577154670234, 11868.544783902578, 11949.440134549459, 11853.43717769382, 11771.701827979274, 11718.077899935683, 11720.126121406493, 11678.637588545484, 11518.062009968175, 11443.929643222316, 11189.484950796566, 11259.445129916901, 11079.062327234227, 10956.707008727359, 10962.422583622854, 10881.348562686335, 11049.249359185666, 10906.398375372859, 10935.524007048978, 10931.228225031065, 10803.541258911227, 10860.073668830028, 10841.443610883116, 10925.116848287069, 11015.085639358105, 11253.367931752755, 11403.772339413543, 11361.671683096123, 11334.47420686225, 11459.114840121361, 11534.202263530527, 11608.036328503249, 11420.339483463718, 11417.561357474191, 11333.296225578506, 11365.020909596338, 11353.866097290565, 11457.20659176118, 11493.550938022345, 11583.927942887252, 11529.898290809495, 11421.004598090762, 11374.172803775642, 11372.236872491125, 11415.35490596461, 11673.263041108195, 11668.330252641168, 11556.78743295006, 11516.803054575736, 11463.411619206803, 11518.605822415679, 11341.127487798252, 11348.302111211835, 11366.062945963944, 11392.452788687058, 11324.403837530937, 11297.460620038393, 11136.577899640732, 11081.638946535684, 11021.480997783678, 11067.335874573651, 10939.377281521107, 11024.835489183244, 11189.599951624687, 10957.976908267134, 11004.686241555271, 11079.177846954228, 11008.555065230961, 10964.821178791934, 10950.251061078177, 10917.642212146695, 10883.905281796999, 10701.490614996732, 10824.807269255642, 10941.673901086679, 10852.678236216565, 10693.531922342556]\n"
     ]
    }
   ],
   "source": [
    "# 연습 문제\n",
    "\n",
    "coin=np.array([1,0])\n",
    "ex1=np.random.choice(coin,10,replace=True,p=[0.5,0.5])\n",
    "print(ex1)\n",
    "dice=np.array([1,2,3,4,5,6])\n",
    "ex2=np.random.choice(dice,100,replace=True,p=[1/6,1/6,1/6,1/6,1/6,1/6])\n",
    "print(ex2)\n",
    "\n",
    "\n",
    "\n",
    "np.random.seed(0)\n",
    "a=np.random.randn(250)\n",
    "percentage=a/100\n",
    "price=[10000+percentage[0]*10000]\n",
    "for i in range(1,len(percentage)):\n",
    "    Dprice=price[i-1]+price[i-1]*percentage[i]\n",
    "    price.append(Dprice)\n",
    "print(price)"
   ]
  },
  {
   "cell_type": "code",
   "execution_count": 26,
   "metadata": {},
   "outputs": [
    {
     "data": {
      "text/plain": [
       "array([0, 2, 3, 1, 0, 0], dtype=int64)"
      ]
     },
     "execution_count": 26,
     "metadata": {},
     "output_type": "execute_result"
    }
   ],
   "source": [
    "# 정수 데이터 카운팅\n",
    "np.unique([11,11,2,2,34,34]) # 중복값 제거 후 정렬 추출\n",
    "a=np.array(['a','b','b','c','a'])\n",
    "index,count=np.unique(a,return_counts=True) \n",
    "index # 리스트 출력\n",
    "count # 각 값의 개수 출력\n",
    "\n",
    "np.bincount([1,1,2,2,2,3],minlength=6) # 값이 뽑히지 않은 경우 0으로 카운트 하고 싶을 때"
   ]
  }
 ],
 "metadata": {
  "interpreter": {
   "hash": "11938c6bc6919ae2720b4d5011047913343b08a43b18698fd82dedb0d4417594"
  },
  "kernelspec": {
   "display_name": "Python 3.9.0 64-bit",
   "language": "python",
   "name": "python3"
  },
  "language_info": {
   "codemirror_mode": {
    "name": "ipython",
    "version": 3
   },
   "file_extension": ".py",
   "mimetype": "text/x-python",
   "name": "python",
   "nbconvert_exporter": "python",
   "pygments_lexer": "ipython3",
   "version": "3.9.0"
  },
  "orig_nbformat": 4
 },
 "nbformat": 4,
 "nbformat_minor": 2
}
